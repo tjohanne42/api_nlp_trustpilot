{
 "cells": [
  {
   "cell_type": "code",
   "execution_count": 11,
   "id": "noted-addition",
   "metadata": {},
   "outputs": [
    {
     "name": "stdout",
     "output_type": "stream",
     "text": [
      "{'neg': 0.0, 'neu': 0.725, 'pos': 0.275, 'compound': 0.2247}\n"
     ]
    },
    {
     "name": "stderr",
     "output_type": "stream",
     "text": [
      "c:\\users\\theoj\\appdata\\local\\programs\\python\\python39\\lib\\site-packages\\fuzzywuzzy\\fuzz.py:11: UserWarning: Using slow pure-python SequenceMatcher. Install python-Levenshtein to remove this warning\n",
      "  warnings.warn('Using slow pure-python SequenceMatcher. Install python-Levenshtein to remove this warning')\n"
     ]
    }
   ],
   "source": [
    "from vaderSentiment_fr.vaderSentiment import SentimentIntensityAnalyzer\n",
    "\n",
    "SIA = SentimentIntensityAnalyzer()\n",
    "\n",
    "phrase = \"Une phrase très cool à analyser\"\n",
    "\n",
    "score = SIA.polarity_scores(phrase)\n",
    "print(score)"
   ]
  },
  {
   "cell_type": "code",
   "execution_count": null,
   "id": "sixth-engineer",
   "metadata": {},
   "outputs": [],
   "source": [
    "json =  {\n",
    "        nb_companies: int, # nb of companies used for stats\n",
    "        nb_reviews: int, # nb of reviews\n",
    "        stars_mean: float, # stars of all companies average\n",
    "\n",
    "        wordclouds: {\n",
    "                    pos:    {\n",
    "                            str: int,\n",
    "                            ...\n",
    "                            },\n",
    "                    neg:    {\n",
    "                            str: int,\n",
    "                            ...\n",
    "                            }\n",
    "                    } # wordclouds most used words in both positive and negative sentiment\n",
    "\n",
    "        stars_evolution_by_month:   {\n",
    "                                    str(month): int,\n",
    "                                    ...\n",
    "                                    } # stars evolution for all companies by month\n",
    "        sentiment_evolution_by_month:   {\n",
    "                                        str(month): int,\n",
    "                                        ...\n",
    "                                        } # sentiment evolution for all companies by month\n",
    "        best_companies:     {\n",
    "                            str(company_name):  {\n",
    "                                                \"type\": str, # ex: \"LocalBusiness\"\n",
    "                                                \"review_count\": int,\n",
    "                                                \"stars_average\": float,\n",
    "                                                \"sentiment_average\": float,\n",
    "                                                \"location\": str,\n",
    "                                                \"logo\": str,\n",
    "                                                \"url\": str,\n",
    "                                                \"phone\": str, # for Younes\n",
    "                                                \"mail\": str\n",
    "                                                }\n",
    "\n",
    "                            } # select companies with best success\n",
    "        }\n"
   ]
  }
 ],
 "metadata": {
  "kernelspec": {
   "display_name": "Python 3",
   "language": "python",
   "name": "python3"
  },
  "language_info": {
   "codemirror_mode": {
    "name": "ipython",
    "version": 3
   },
   "file_extension": ".py",
   "mimetype": "text/x-python",
   "name": "python",
   "nbconvert_exporter": "python",
   "pygments_lexer": "ipython3",
   "version": "3.9.2"
  }
 },
 "nbformat": 4,
 "nbformat_minor": 5
}
