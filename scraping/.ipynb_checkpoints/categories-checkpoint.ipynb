{
 "cells": [
  {
   "cell_type": "code",
   "execution_count": 12,
   "metadata": {},
   "outputs": [],
   "source": [
    "from bs4 import BeautifulSoup\n",
    "import requests\n",
    "import pandas as pd"
   ]
  },
  {
   "cell_type": "code",
   "execution_count": 13,
   "metadata": {},
   "outputs": [],
   "source": [
    "url = \"https://fr.trustpilot.com/categories\""
   ]
  },
  {
   "cell_type": "code",
   "execution_count": 14,
   "metadata": {},
   "outputs": [],
   "source": [
    "req = requests.get(url)\n",
    "try:\n",
    "    soup = BeautifulSoup(req.text, \"lxml\")\n",
    "except:\n",
    "    soup = BeautifulSoup(req.text, \"html.parser\")"
   ]
  },
  {
   "cell_type": "code",
   "execution_count": null,
   "metadata": {},
   "outputs": [],
   "source": [
    "print(soup)"
   ]
  },
  {
   "cell_type": "code",
   "execution_count": 16,
   "metadata": {},
   "outputs": [],
   "source": [
    "big_categories = {\"fr_name\" : [], \"link\": []}\n",
    "sub_categories = {\"fr_name\" : [], \"link\": []}\n",
    "\n",
    "\n",
    "section = soup.find(\"section\", class_=\"categories_rightColumn__x8o71\")\n",
    "divs = section.find_all(\"div\", class_=\"categories_subCategory__3OxUx\")\n",
    "\n",
    "for div in divs:\n",
    "    # getting header of big category\n",
    "    header3 = div.find(\"h3\", class_=\"categories_subCategoryHeader__3Bd4c\")\n",
    "    \n",
    "    # getting fr name, link\n",
    "    name = header3.find(\"span\").text\n",
    "    link = header3.find(\"a\")[\"href\"]\n",
    "    link = link.split(\"/\")[-1]\n",
    "    big_categories[\"fr_name\"].append(name)\n",
    "    big_categories[\"link\"].append(link)\n",
    "    \n",
    "    # getting div of sub categories\n",
    "    sub_div = div.find(\"div\", class_=\"categories_subCategoryList__1FB-L\")\n",
    "    every_sub_category_div = sub_div.find_all(\"div\", class_=\"categories_subCategoryItem__2Qwj8\")\n",
    "    \n",
    "    # in each sub category we'll find fr name, link\n",
    "    for sub_category_div in every_sub_category_div:\n",
    "        sub_name = sub_category_div.find(\"span\").text\n",
    "        sub_link = sub_category_div.find(\"a\")[\"href\"]\n",
    "        sub_link = link + \"/\" + sub_link.split(\"/\")[-1]\n",
    "        \n",
    "        sub_categories[\"fr_name\"].append(sub_name)\n",
    "        sub_categories[\"link\"].append(sub_link)        \n",
    "\n",
    "    \n",
    "df_big = pd.DataFrame(data=big_categories)\n",
    "df_sub = pd.DataFrame(data=sub_categories)\n",
    "df_big[\"category\"] = 0\n",
    "df_sub[\"category\"] = 1"
   ]
  },
  {
   "cell_type": "code",
   "execution_count": 20,
   "metadata": {},
   "outputs": [
    {
     "data": {
      "text/html": [
       "<div>\n",
       "<style scoped>\n",
       "    .dataframe tbody tr th:only-of-type {\n",
       "        vertical-align: middle;\n",
       "    }\n",
       "\n",
       "    .dataframe tbody tr th {\n",
       "        vertical-align: top;\n",
       "    }\n",
       "\n",
       "    .dataframe thead th {\n",
       "        text-align: right;\n",
       "    }\n",
       "</style>\n",
       "<table border=\"1\" class=\"dataframe\">\n",
       "  <thead>\n",
       "    <tr style=\"text-align: right;\">\n",
       "      <th></th>\n",
       "      <th>fr_name</th>\n",
       "      <th>link</th>\n",
       "      <th>category</th>\n",
       "    </tr>\n",
       "  </thead>\n",
       "  <tbody>\n",
       "    <tr>\n",
       "      <th>0</th>\n",
       "      <td>Aliments, boissons &amp; tabac</td>\n",
       "      <td>food_beverages_tobacco</td>\n",
       "      <td>0</td>\n",
       "    </tr>\n",
       "    <tr>\n",
       "      <th>1</th>\n",
       "      <td>Animaux</td>\n",
       "      <td>animals_pets</td>\n",
       "      <td>0</td>\n",
       "    </tr>\n",
       "    <tr>\n",
       "      <th>2</th>\n",
       "      <td>Argent &amp; assurance</td>\n",
       "      <td>money_insurance</td>\n",
       "      <td>0</td>\n",
       "    </tr>\n",
       "    <tr>\n",
       "      <th>3</th>\n",
       "      <td>Beauté &amp; bien-être</td>\n",
       "      <td>beauty_wellbeing</td>\n",
       "      <td>0</td>\n",
       "    </tr>\n",
       "    <tr>\n",
       "      <th>4</th>\n",
       "      <td>Construction &amp; fabrication</td>\n",
       "      <td>construction_manufactoring</td>\n",
       "      <td>0</td>\n",
       "    </tr>\n",
       "  </tbody>\n",
       "</table>\n",
       "</div>"
      ],
      "text/plain": [
       "                      fr_name                        link  category\n",
       "0  Aliments, boissons & tabac      food_beverages_tobacco         0\n",
       "1                     Animaux                animals_pets         0\n",
       "2          Argent & assurance             money_insurance         0\n",
       "3          Beauté & bien-être            beauty_wellbeing         0\n",
       "4  Construction & fabrication  construction_manufactoring         0"
      ]
     },
     "execution_count": 20,
     "metadata": {},
     "output_type": "execute_result"
    }
   ],
   "source": [
    "df_big.head()"
   ]
  },
  {
   "cell_type": "code",
   "execution_count": 35,
   "metadata": {},
   "outputs": [
    {
     "data": {
      "text/html": [
       "<div>\n",
       "<style scoped>\n",
       "    .dataframe tbody tr th:only-of-type {\n",
       "        vertical-align: middle;\n",
       "    }\n",
       "\n",
       "    .dataframe tbody tr th {\n",
       "        vertical-align: top;\n",
       "    }\n",
       "\n",
       "    .dataframe thead th {\n",
       "        text-align: right;\n",
       "    }\n",
       "</style>\n",
       "<table border=\"1\" class=\"dataframe\">\n",
       "  <thead>\n",
       "    <tr style=\"text-align: right;\">\n",
       "      <th></th>\n",
       "      <th>fr_name</th>\n",
       "      <th>link</th>\n",
       "      <th>category</th>\n",
       "    </tr>\n",
       "  </thead>\n",
       "  <tbody>\n",
       "    <tr>\n",
       "      <th>0</th>\n",
       "      <td>Agriculture &amp; production</td>\n",
       "      <td>food_beverages_tobacco/agriculture_produce</td>\n",
       "      <td>1</td>\n",
       "    </tr>\n",
       "    <tr>\n",
       "      <th>1</th>\n",
       "      <td>Bière &amp; vin</td>\n",
       "      <td>food_beverages_tobacco/beer_wine</td>\n",
       "      <td>1</td>\n",
       "    </tr>\n",
       "    <tr>\n",
       "      <th>2</th>\n",
       "      <td>Boissons &amp; alcool</td>\n",
       "      <td>food_beverages_tobacco/beverages_liquor</td>\n",
       "      <td>1</td>\n",
       "    </tr>\n",
       "    <tr>\n",
       "      <th>3</th>\n",
       "      <td>Bonbons &amp; chocolat</td>\n",
       "      <td>food_beverages_tobacco/candy_chocolate</td>\n",
       "      <td>1</td>\n",
       "    </tr>\n",
       "    <tr>\n",
       "      <th>4</th>\n",
       "      <td>Boulangerie &amp; pâtisserie</td>\n",
       "      <td>food_beverages_tobacco/bakery_pastry</td>\n",
       "      <td>1</td>\n",
       "    </tr>\n",
       "  </tbody>\n",
       "</table>\n",
       "</div>"
      ],
      "text/plain": [
       "                    fr_name                                        link  \\\n",
       "0  Agriculture & production  food_beverages_tobacco/agriculture_produce   \n",
       "1               Bière & vin            food_beverages_tobacco/beer_wine   \n",
       "2         Boissons & alcool     food_beverages_tobacco/beverages_liquor   \n",
       "3        Bonbons & chocolat      food_beverages_tobacco/candy_chocolate   \n",
       "4  Boulangerie & pâtisserie        food_beverages_tobacco/bakery_pastry   \n",
       "\n",
       "   category  \n",
       "0         1  \n",
       "1         1  \n",
       "2         1  \n",
       "3         1  \n",
       "4         1  "
      ]
     },
     "metadata": {},
     "output_type": "display_data"
    },
    {
     "data": {
      "text/plain": [
       "(182, 3)"
      ]
     },
     "execution_count": 35,
     "metadata": {},
     "output_type": "execute_result"
    }
   ],
   "source": [
    "display(df_sub.head())\n",
    "df_sub.shape"
   ]
  },
  {
   "cell_type": "code",
   "execution_count": 49,
   "metadata": {},
   "outputs": [
    {
     "name": "stdout",
     "output_type": "stream",
     "text": [
      "96 https://fr.trustpilot.com/categories/general_restaurants\n"
     ]
    },
    {
     "data": {
      "text/html": [
       "<div>\n",
       "<style scoped>\n",
       "    .dataframe tbody tr th:only-of-type {\n",
       "        vertical-align: middle;\n",
       "    }\n",
       "\n",
       "    .dataframe tbody tr th {\n",
       "        vertical-align: top;\n",
       "    }\n",
       "\n",
       "    .dataframe thead th {\n",
       "        text-align: right;\n",
       "    }\n",
       "</style>\n",
       "<table border=\"1\" class=\"dataframe\">\n",
       "  <thead>\n",
       "    <tr style=\"text-align: right;\">\n",
       "      <th></th>\n",
       "      <th>fr_name</th>\n",
       "      <th>link</th>\n",
       "      <th>category</th>\n",
       "    </tr>\n",
       "  </thead>\n",
       "  <tbody>\n",
       "    <tr>\n",
       "      <th>0</th>\n",
       "      <td>Agriculteur</td>\n",
       "      <td>food_beverages_tobacco/agriculture_produce/cro...</td>\n",
       "      <td>2</td>\n",
       "    </tr>\n",
       "    <tr>\n",
       "      <th>1</th>\n",
       "      <td>Coopérative agricole</td>\n",
       "      <td>food_beverages_tobacco/agriculture_produce/agr...</td>\n",
       "      <td>2</td>\n",
       "    </tr>\n",
       "    <tr>\n",
       "      <th>2</th>\n",
       "      <td>Ferme</td>\n",
       "      <td>food_beverages_tobacco/agriculture_produce/farm</td>\n",
       "      <td>2</td>\n",
       "    </tr>\n",
       "    <tr>\n",
       "      <th>3</th>\n",
       "      <td>Fournisseur de services agricoles</td>\n",
       "      <td>food_beverages_tobacco/agriculture_produce/agr...</td>\n",
       "      <td>2</td>\n",
       "    </tr>\n",
       "    <tr>\n",
       "      <th>4</th>\n",
       "      <td>Grossiste de produits</td>\n",
       "      <td>food_beverages_tobacco/agriculture_produce/pro...</td>\n",
       "      <td>2</td>\n",
       "    </tr>\n",
       "  </tbody>\n",
       "</table>\n",
       "</div>"
      ],
      "text/plain": [
       "                             fr_name  \\\n",
       "0                        Agriculteur   \n",
       "1               Coopérative agricole   \n",
       "2                              Ferme   \n",
       "3  Fournisseur de services agricoles   \n",
       "4              Grossiste de produits   \n",
       "\n",
       "                                                link  category  \n",
       "0  food_beverages_tobacco/agriculture_produce/cro...         2  \n",
       "1  food_beverages_tobacco/agriculture_produce/agr...         2  \n",
       "2    food_beverages_tobacco/agriculture_produce/farm         2  \n",
       "3  food_beverages_tobacco/agriculture_produce/agr...         2  \n",
       "4  food_beverages_tobacco/agriculture_produce/pro...         2  "
      ]
     },
     "execution_count": 49,
     "metadata": {},
     "output_type": "execute_result"
    }
   ],
   "source": [
    "sub_sub_categories = {\"fr_name\": [], \"link\": []}\n",
    "\n",
    "url = \"https://fr.trustpilot.com/categories/\"\n",
    "\n",
    "size = len(df_sub)\n",
    "i = 0\n",
    "\n",
    "while i < size:\n",
    "    sub_link = df_sub[\"link\"][i].split(\"/\")[-1]\n",
    "    req = requests.get(url + sub_link)\n",
    "    try:\n",
    "        soup = BeautifulSoup(req.text, \"lxml\")\n",
    "    except:\n",
    "        soup = BeautifulSoup(req.text, \"html.parser\")\n",
    "\n",
    "    ul = soup.find(\"ul\", class_=\"styles_subCategoriesList__1YKDz\")\n",
    "    try:\n",
    "        lis = ul.find_all(\"li\")\n",
    "    except:\n",
    "        print(i, url + sub_link)\n",
    "    for li in lis:\n",
    "        a_balise = li.find(\"a\")\n",
    "        if a_balise[\"href\"] == \"#\":\n",
    "            continue\n",
    "        link = df_sub[\"link\"][i] + \"/\" + a_balise[\"href\"].split(\"/\")[-1]\n",
    "        name = a_balise.text.split('(')[0]\n",
    "        name = name[0:len(name)-1]\n",
    "        \n",
    "        sub_sub_categories[\"fr_name\"].append(name)\n",
    "        sub_sub_categories[\"link\"].append(link)\n",
    "        \n",
    "    i += 1\n",
    "\n",
    "df_sub_sub = pd.DataFrame(data=sub_sub_categories)\n",
    "df_sub_sub[\"category\"] = 2\n",
    "df_sub_sub.head()"
   ]
  },
  {
   "cell_type": "code",
   "execution_count": 52,
   "metadata": {},
   "outputs": [
    {
     "data": {
      "text/html": [
       "<div>\n",
       "<style scoped>\n",
       "    .dataframe tbody tr th:only-of-type {\n",
       "        vertical-align: middle;\n",
       "    }\n",
       "\n",
       "    .dataframe tbody tr th {\n",
       "        vertical-align: top;\n",
       "    }\n",
       "\n",
       "    .dataframe thead th {\n",
       "        text-align: right;\n",
       "    }\n",
       "</style>\n",
       "<table border=\"1\" class=\"dataframe\">\n",
       "  <thead>\n",
       "    <tr style=\"text-align: right;\">\n",
       "      <th></th>\n",
       "      <th>fr_name</th>\n",
       "      <th>link</th>\n",
       "      <th>category</th>\n",
       "    </tr>\n",
       "  </thead>\n",
       "  <tbody>\n",
       "    <tr>\n",
       "      <th>1682</th>\n",
       "      <td>Courtier automobile</td>\n",
       "      <td>vehicles_transportation/cars_trucks/auto_broker</td>\n",
       "      <td>2</td>\n",
       "    </tr>\n",
       "    <tr>\n",
       "      <th>1683</th>\n",
       "      <td>Marchand de pièces détachées</td>\n",
       "      <td>vehicles_transportation/cars_trucks/salvage_de...</td>\n",
       "      <td>2</td>\n",
       "    </tr>\n",
       "    <tr>\n",
       "      <th>1684</th>\n",
       "      <td>Marché automobile</td>\n",
       "      <td>vehicles_transportation/cars_trucks/auto_market</td>\n",
       "      <td>2</td>\n",
       "    </tr>\n",
       "    <tr>\n",
       "      <th>1685</th>\n",
       "      <td>Société de transport routier</td>\n",
       "      <td>vehicles_transportation/cars_trucks/trucking_c...</td>\n",
       "      <td>2</td>\n",
       "    </tr>\n",
       "    <tr>\n",
       "      <th>1686</th>\n",
       "      <td>Vendeur de voitures d'occasion</td>\n",
       "      <td>vehicles_transportation/cars_trucks/used_car_d...</td>\n",
       "      <td>2</td>\n",
       "    </tr>\n",
       "  </tbody>\n",
       "</table>\n",
       "</div>"
      ],
      "text/plain": [
       "                             fr_name  \\\n",
       "1682             Courtier automobile   \n",
       "1683    Marchand de pièces détachées   \n",
       "1684               Marché automobile   \n",
       "1685    Société de transport routier   \n",
       "1686  Vendeur de voitures d'occasion   \n",
       "\n",
       "                                                   link  category  \n",
       "1682    vehicles_transportation/cars_trucks/auto_broker         2  \n",
       "1683  vehicles_transportation/cars_trucks/salvage_de...         2  \n",
       "1684    vehicles_transportation/cars_trucks/auto_market         2  \n",
       "1685  vehicles_transportation/cars_trucks/trucking_c...         2  \n",
       "1686  vehicles_transportation/cars_trucks/used_car_d...         2  "
      ]
     },
     "execution_count": 52,
     "metadata": {},
     "output_type": "execute_result"
    }
   ],
   "source": [
    "df_sub_sub.tail()"
   ]
  },
  {
   "cell_type": "code",
   "execution_count": 72,
   "metadata": {},
   "outputs": [
    {
     "name": "stdout",
     "output_type": "stream",
     "text": [
      "(1687, 3)\n",
      "1687\n",
      "1682\n"
     ]
    }
   ],
   "source": [
    "print(df_sub_sub.shape)\n",
    "print(len(df_sub_sub[\"link\"].unique()))\n",
    "print(len(df_sub_sub[\"fr_name\"].unique()))"
   ]
  },
  {
   "cell_type": "code",
   "execution_count": 73,
   "metadata": {},
   "outputs": [
    {
     "data": {
      "text/plain": [
       "Maçon                                        2\n",
       "Magasin de vêtements de sport                2\n",
       "Cuisine française moderne                    2\n",
       "Studio de photographie                       2\n",
       "Pizzeria                                     2\n",
       "                                            ..\n",
       "Clinique spécialisée                         1\n",
       "Entrepreneur en éclairage                    1\n",
       "Agence de location de maisons de vacances    1\n",
       "Boutique de mariage                          1\n",
       "Compagnie aérienne                           1\n",
       "Name: fr_name, Length: 1682, dtype: int64"
      ]
     },
     "execution_count": 73,
     "metadata": {},
     "output_type": "execute_result"
    }
   ],
   "source": [
    "df_sub_sub[\"fr_name\"].value_counts()"
   ]
  },
  {
   "cell_type": "code",
   "execution_count": 75,
   "metadata": {},
   "outputs": [
    {
     "name": "stdout",
     "output_type": "stream",
     "text": [
      "construction_manufactoring/construction_services/stonemason\n",
      "home_services/craftsman/bricklayer\n"
     ]
    }
   ],
   "source": [
    "print(df_sub_sub[df_sub_sub[\"fr_name\"] == \"Maçon\"][\"link\"][423])\n",
    "print(df_sub_sub[df_sub_sub[\"fr_name\"] == \"Maçon\"][\"link\"][1072])"
   ]
  },
  {
   "cell_type": "code",
   "execution_count": 76,
   "metadata": {},
   "outputs": [
    {
     "name": "stdout",
     "output_type": "stream",
     "text": [
      "(182, 3)\n",
      "182\n",
      "180\n"
     ]
    }
   ],
   "source": [
    "print(df_sub.shape)\n",
    "print(len(df_sub[\"link\"].unique()))\n",
    "print(len(df_sub[\"fr_name\"].unique()))"
   ]
  },
  {
   "cell_type": "code",
   "execution_count": 77,
   "metadata": {},
   "outputs": [
    {
     "data": {
      "text/plain": [
       "Impression & design graphique    2\n",
       "Jardin & paysagisme              2\n",
       "Formations & cours               1\n",
       "École & lycée                    1\n",
       "Bijoux & montres                 1\n",
       "                                ..\n",
       "Voitures & camions               1\n",
       "Jeux                             1\n",
       "Activités extérieures            1\n",
       "Animalerie                       1\n",
       "Théâtre & opéra                  1\n",
       "Name: fr_name, Length: 180, dtype: int64"
      ]
     },
     "execution_count": 77,
     "metadata": {},
     "output_type": "execute_result"
    }
   ],
   "source": [
    "df_sub[\"fr_name\"].value_counts()"
   ]
  },
  {
   "cell_type": "code",
   "execution_count": 80,
   "metadata": {},
   "outputs": [
    {
     "name": "stdout",
     "output_type": "stream",
     "text": [
      "125    business_services/print_graphic_design\n",
      "126    business_services/research_development\n",
      "Name: link, dtype: object\n"
     ]
    }
   ],
   "source": [
    "print(df_sub[df_sub[\"fr_name\"] == \"Impression & design graphique\"][\"link\"])\n"
   ]
  },
  {
   "cell_type": "code",
   "execution_count": 81,
   "metadata": {},
   "outputs": [
    {
     "name": "stdout",
     "output_type": "stream",
     "text": [
      "(22, 3)\n",
      "22\n",
      "22\n"
     ]
    }
   ],
   "source": [
    "print(df_big.shape)\n",
    "print(len(df_big[\"link\"].unique()))\n",
    "print(len(df_big[\"fr_name\"].unique()))"
   ]
  },
  {
   "cell_type": "code",
   "execution_count": 82,
   "metadata": {},
   "outputs": [],
   "source": [
    "df = pd.concat([df_big, df_sub, df_sub_sub], ignore_index=True)"
   ]
  },
  {
   "cell_type": "code",
   "execution_count": 84,
   "metadata": {},
   "outputs": [
    {
     "data": {
      "text/plain": [
       "(1891, 3)"
      ]
     },
     "execution_count": 84,
     "metadata": {},
     "output_type": "execute_result"
    }
   ],
   "source": [
    "df.shape"
   ]
  },
  {
   "cell_type": "code",
   "execution_count": 85,
   "metadata": {},
   "outputs": [
    {
     "data": {
      "text/plain": [
       "2    1687\n",
       "1     182\n",
       "0      22\n",
       "Name: category, dtype: int64"
      ]
     },
     "execution_count": 85,
     "metadata": {},
     "output_type": "execute_result"
    }
   ],
   "source": [
    "df[\"category\"].value_counts()"
   ]
  },
  {
   "cell_type": "code",
   "execution_count": 86,
   "metadata": {},
   "outputs": [],
   "source": [
    "df.to_csv(\"categories.csv\", index=False, sep=\";\")"
   ]
  },
  {
   "cell_type": "code",
   "execution_count": 87,
   "metadata": {},
   "outputs": [
    {
     "data": {
      "text/html": [
       "<div>\n",
       "<style scoped>\n",
       "    .dataframe tbody tr th:only-of-type {\n",
       "        vertical-align: middle;\n",
       "    }\n",
       "\n",
       "    .dataframe tbody tr th {\n",
       "        vertical-align: top;\n",
       "    }\n",
       "\n",
       "    .dataframe thead th {\n",
       "        text-align: right;\n",
       "    }\n",
       "</style>\n",
       "<table border=\"1\" class=\"dataframe\">\n",
       "  <thead>\n",
       "    <tr style=\"text-align: right;\">\n",
       "      <th></th>\n",
       "      <th>fr_name</th>\n",
       "      <th>link</th>\n",
       "      <th>category</th>\n",
       "    </tr>\n",
       "  </thead>\n",
       "  <tbody>\n",
       "    <tr>\n",
       "      <th>0</th>\n",
       "      <td>Aliments, boissons &amp; tabac</td>\n",
       "      <td>food_beverages_tobacco</td>\n",
       "      <td>0</td>\n",
       "    </tr>\n",
       "    <tr>\n",
       "      <th>1</th>\n",
       "      <td>Animaux</td>\n",
       "      <td>animals_pets</td>\n",
       "      <td>0</td>\n",
       "    </tr>\n",
       "    <tr>\n",
       "      <th>2</th>\n",
       "      <td>Argent &amp; assurance</td>\n",
       "      <td>money_insurance</td>\n",
       "      <td>0</td>\n",
       "    </tr>\n",
       "    <tr>\n",
       "      <th>3</th>\n",
       "      <td>Beauté &amp; bien-être</td>\n",
       "      <td>beauty_wellbeing</td>\n",
       "      <td>0</td>\n",
       "    </tr>\n",
       "    <tr>\n",
       "      <th>4</th>\n",
       "      <td>Construction &amp; fabrication</td>\n",
       "      <td>construction_manufactoring</td>\n",
       "      <td>0</td>\n",
       "    </tr>\n",
       "  </tbody>\n",
       "</table>\n",
       "</div>"
      ],
      "text/plain": [
       "                      fr_name                        link  category\n",
       "0  Aliments, boissons & tabac      food_beverages_tobacco         0\n",
       "1                     Animaux                animals_pets         0\n",
       "2          Argent & assurance             money_insurance         0\n",
       "3          Beauté & bien-être            beauty_wellbeing         0\n",
       "4  Construction & fabrication  construction_manufactoring         0"
      ]
     },
     "execution_count": 87,
     "metadata": {},
     "output_type": "execute_result"
    }
   ],
   "source": [
    "df = pd.read_csv(\"categories.csv\", sep=\";\")\n",
    "df.head()"
   ]
  },
  {
   "cell_type": "code",
   "execution_count": null,
   "metadata": {},
   "outputs": [],
   "source": []
  }
 ],
 "metadata": {
  "kernelspec": {
   "display_name": "Python 3",
   "language": "python",
   "name": "python3"
  },
  "language_info": {
   "codemirror_mode": {
    "name": "ipython",
    "version": 3
   },
   "file_extension": ".py",
   "mimetype": "text/x-python",
   "name": "python",
   "nbconvert_exporter": "python",
   "pygments_lexer": "ipython3",
   "version": "3.8.5"
  }
 },
 "nbformat": 4,
 "nbformat_minor": 4
}
