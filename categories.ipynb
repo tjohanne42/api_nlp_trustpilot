{
 "cells": [
  {
   "cell_type": "code",
   "execution_count": 3,
   "metadata": {},
   "outputs": [],
   "source": [
    "from bs4 import BeautifulSoup\n",
    "import requests"
   ]
  },
  {
   "cell_type": "code",
   "execution_count": 10,
   "metadata": {},
   "outputs": [],
   "source": [
    "req = requests.get('https://fr.trustpilot.com/categories')"
   ]
  },
  {
   "cell_type": "code",
   "execution_count": 11,
   "metadata": {},
   "outputs": [],
   "source": [
    "soup = BeautifulSoup(req.text, \"lxml\")"
   ]
  },
  {
   "cell_type": "code",
   "execution_count": null,
   "metadata": {},
   "outputs": [],
   "source": [
    "print(soup)"
   ]
  },
  {
   "cell_type": "code",
   "execution_count": null,
   "metadata": {},
   "outputs": [],
   "source": [
    "section = soup.find(\"section\", class_=\"categories_rightColumn__x8o71\")\n",
    "print(section)"
   ]
  },
  {
   "cell_type": "code",
   "execution_count": 17,
   "metadata": {},
   "outputs": [],
   "source": [
    "divs = section.find_all(\"div\", class_=\"categories_subCategory__3OxUx\")"
   ]
  },
  {
   "cell_type": "code",
   "execution_count": 25,
   "metadata": {},
   "outputs": [
    {
     "name": "stdout",
     "output_type": "stream",
     "text": [
      "['Aliments, boissons & tabac', 'Animaux', 'Argent & assurance', 'Beauté & bien-être', 'Construction & fabrication', 'Éducation & formation', 'Électronique & technologie', 'Événements & divertissement', 'Loisirs & artisanat', 'Maison & jardin', 'Médias & édition', 'Restaurants & bars', 'Santé & médecine', 'Services', 'Services à domicile', 'Services aux entreprises', 'Services juridiques & administration', 'Services publics & locaux', 'Shopping & mode', 'Sport', 'Vacances & voyages', 'Véhicules & transport']\n",
      "['/categories/food_beverages_tobacco', '/categories/animals_pets', '/categories/money_insurance', '/categories/beauty_wellbeing', '/categories/construction_manufactoring', '/categories/education_training', '/categories/electronics_technology', '/categories/events_entertainment', '/categories/hobbies_crafts', '/categories/home_garden', '/categories/media_publishing', '/categories/restaurants_bars', '/categories/health_medical', '/categories/utilities', '/categories/home_services', '/categories/business_services', '/categories/legal_services_government', '/categories/public_local_services', '/categories/shopping_fashion', '/categories/sports', '/categories/travel_vacation', '/categories/vehicles_transportation']\n"
     ]
    }
   ],
   "source": [
    "big_categories = {\"names\" : [], \"links\": []}\n",
    "sub_categories = {\"names\" : [], \"links\": [], \"parent\": []}\n",
    "\n",
    "\n",
    "for div in divs:\n",
    "    # getting header of big category\n",
    "    header3 = div.find(\"h3\", class_=\"categories_subCategoryHeader__3Bd4c\")\n",
    "    \n",
    "    # getting fr name, link\n",
    "    name = header3.find(\"span\").text\n",
    "    link = header3.find(\"a\")[\"href\"]\n",
    "    big_categories[\"names\"].append(name)\n",
    "    big_categories[\"links\"].append(link)\n",
    "    \n",
    "    # getting div of sub categories\n",
    "    sub_div = div.find(\"div\", class_=\"categories_subCategoryList__1FB-L\")\n",
    "    every_sub_category_div = sub_div.find_all(\"div\", class_=\"categories_subCategoryItem__2Qwj8\")\n",
    "    \n",
    "    # in each sub category we'll find fr name, link\n",
    "    for sub_category_div in every_sub_category_div:\n",
    "        sub_name = sub_category_div.find(\"span\").text\n",
    "        sub_link = sub_category_div.find(\"a\")[\"href\"]\n",
    "        \n",
    "        sub_categories[\"names\"].append(sub_name)\n",
    "        sub_categories[\"links\"].append(sub_link)\n",
    "        sub_categories[\"parent\"].append(name)\n",
    "        \n",
    "\n",
    "    \n",
    "print(big_categories[\"names\"])\n",
    "print(big_categories[\"links\"])"
   ]
  },
  {
   "cell_type": "code",
   "execution_count": 28,
   "metadata": {},
   "outputs": [
    {
     "data": {
      "text/plain": [
       "['Agriculture & production',\n",
       " 'Bière & vin',\n",
       " 'Boissons & alcool',\n",
       " 'Bonbons & chocolat',\n",
       " 'Boulangerie & pâtisserie',\n",
       " 'Café & thé',\n",
       " 'Déjeuner & traiteur',\n",
       " 'Épiceries & marchés',\n",
       " 'Épiceries asiatiques',\n",
       " 'Fruits & légumes',\n",
       " 'Production alimentaire',\n",
       " 'Tabac & cigarettes',\n",
       " 'Viande, fruits de mer & oeufs',\n",
       " 'Animalerie']"
      ]
     },
     "execution_count": 28,
     "metadata": {},
     "output_type": "execute_result"
    }
   ],
   "source": [
    "sub_categories[\"names\"][0:14]"
   ]
  },
  {
   "cell_type": "code",
   "execution_count": 29,
   "metadata": {},
   "outputs": [
    {
     "data": {
      "text/plain": [
       "['/categories/agriculture_produce',\n",
       " '/categories/beer_wine',\n",
       " '/categories/beverages_liquor',\n",
       " '/categories/candy_chocolate',\n",
       " '/categories/bakery_pastry',\n",
       " '/categories/coffee_tea',\n",
       " '/categories/lunch_catering',\n",
       " '/categories/grocery_stores_markets',\n",
       " '/categories/asian_grocery_stores',\n",
       " '/categories/fruits_vegetables',\n",
       " '/categories/food_production',\n",
       " '/categories/smoking_tobacco',\n",
       " '/categories/meat_seafood_eggs',\n",
       " '/categories/pet_stores']"
      ]
     },
     "execution_count": 29,
     "metadata": {},
     "output_type": "execute_result"
    }
   ],
   "source": [
    "sub_categories[\"links\"][0:14]"
   ]
  },
  {
   "cell_type": "code",
   "execution_count": 31,
   "metadata": {},
   "outputs": [
    {
     "data": {
      "text/plain": [
       "182"
      ]
     },
     "execution_count": 31,
     "metadata": {},
     "output_type": "execute_result"
    }
   ],
   "source": [
    "len(sub_categories[\"links\"])"
   ]
  },
  {
   "cell_type": "code",
   "execution_count": 32,
   "metadata": {},
   "outputs": [],
   "source": [
    "import pandas as pd"
   ]
  },
  {
   "cell_type": "code",
   "execution_count": 33,
   "metadata": {},
   "outputs": [],
   "source": [
    "df_sub = pd.DataFrame(data=sub_categories)"
   ]
  },
  {
   "cell_type": "code",
   "execution_count": 34,
   "metadata": {},
   "outputs": [
    {
     "data": {
      "text/html": [
       "<div>\n",
       "<style scoped>\n",
       "    .dataframe tbody tr th:only-of-type {\n",
       "        vertical-align: middle;\n",
       "    }\n",
       "\n",
       "    .dataframe tbody tr th {\n",
       "        vertical-align: top;\n",
       "    }\n",
       "\n",
       "    .dataframe thead th {\n",
       "        text-align: right;\n",
       "    }\n",
       "</style>\n",
       "<table border=\"1\" class=\"dataframe\">\n",
       "  <thead>\n",
       "    <tr style=\"text-align: right;\">\n",
       "      <th></th>\n",
       "      <th>names</th>\n",
       "      <th>links</th>\n",
       "      <th>parent</th>\n",
       "    </tr>\n",
       "  </thead>\n",
       "  <tbody>\n",
       "    <tr>\n",
       "      <th>0</th>\n",
       "      <td>Agriculture &amp; production</td>\n",
       "      <td>/categories/agriculture_produce</td>\n",
       "      <td>Aliments, boissons &amp; tabac</td>\n",
       "    </tr>\n",
       "    <tr>\n",
       "      <th>1</th>\n",
       "      <td>Bière &amp; vin</td>\n",
       "      <td>/categories/beer_wine</td>\n",
       "      <td>Aliments, boissons &amp; tabac</td>\n",
       "    </tr>\n",
       "    <tr>\n",
       "      <th>2</th>\n",
       "      <td>Boissons &amp; alcool</td>\n",
       "      <td>/categories/beverages_liquor</td>\n",
       "      <td>Aliments, boissons &amp; tabac</td>\n",
       "    </tr>\n",
       "    <tr>\n",
       "      <th>3</th>\n",
       "      <td>Bonbons &amp; chocolat</td>\n",
       "      <td>/categories/candy_chocolate</td>\n",
       "      <td>Aliments, boissons &amp; tabac</td>\n",
       "    </tr>\n",
       "    <tr>\n",
       "      <th>4</th>\n",
       "      <td>Boulangerie &amp; pâtisserie</td>\n",
       "      <td>/categories/bakery_pastry</td>\n",
       "      <td>Aliments, boissons &amp; tabac</td>\n",
       "    </tr>\n",
       "    <tr>\n",
       "      <th>...</th>\n",
       "      <td>...</td>\n",
       "      <td>...</td>\n",
       "      <td>...</td>\n",
       "    </tr>\n",
       "    <tr>\n",
       "      <th>177</th>\n",
       "      <td>Réparation de véhicules &amp; carburant</td>\n",
       "      <td>/categories/vehicle_repair_fuel</td>\n",
       "      <td>Véhicules &amp; transport</td>\n",
       "    </tr>\n",
       "    <tr>\n",
       "      <th>178</th>\n",
       "      <td>Taxis &amp; transports publics</td>\n",
       "      <td>/categories/taxis_public_transport</td>\n",
       "      <td>Véhicules &amp; transport</td>\n",
       "    </tr>\n",
       "    <tr>\n",
       "      <th>179</th>\n",
       "      <td>Transport aérien &amp; nautique</td>\n",
       "      <td>/categories/air_water_transport</td>\n",
       "      <td>Véhicules &amp; transport</td>\n",
       "    </tr>\n",
       "    <tr>\n",
       "      <th>180</th>\n",
       "      <td>Vélos</td>\n",
       "      <td>/categories/bicycles</td>\n",
       "      <td>Véhicules &amp; transport</td>\n",
       "    </tr>\n",
       "    <tr>\n",
       "      <th>181</th>\n",
       "      <td>Voitures &amp; camions</td>\n",
       "      <td>/categories/cars_trucks</td>\n",
       "      <td>Véhicules &amp; transport</td>\n",
       "    </tr>\n",
       "  </tbody>\n",
       "</table>\n",
       "<p>182 rows × 3 columns</p>\n",
       "</div>"
      ],
      "text/plain": [
       "                                   names                               links  \\\n",
       "0               Agriculture & production     /categories/agriculture_produce   \n",
       "1                            Bière & vin               /categories/beer_wine   \n",
       "2                      Boissons & alcool        /categories/beverages_liquor   \n",
       "3                     Bonbons & chocolat         /categories/candy_chocolate   \n",
       "4               Boulangerie & pâtisserie           /categories/bakery_pastry   \n",
       "..                                   ...                                 ...   \n",
       "177  Réparation de véhicules & carburant     /categories/vehicle_repair_fuel   \n",
       "178           Taxis & transports publics  /categories/taxis_public_transport   \n",
       "179          Transport aérien & nautique     /categories/air_water_transport   \n",
       "180                                Vélos                /categories/bicycles   \n",
       "181                   Voitures & camions             /categories/cars_trucks   \n",
       "\n",
       "                         parent  \n",
       "0    Aliments, boissons & tabac  \n",
       "1    Aliments, boissons & tabac  \n",
       "2    Aliments, boissons & tabac  \n",
       "3    Aliments, boissons & tabac  \n",
       "4    Aliments, boissons & tabac  \n",
       "..                          ...  \n",
       "177       Véhicules & transport  \n",
       "178       Véhicules & transport  \n",
       "179       Véhicules & transport  \n",
       "180       Véhicules & transport  \n",
       "181       Véhicules & transport  \n",
       "\n",
       "[182 rows x 3 columns]"
      ]
     },
     "execution_count": 34,
     "metadata": {},
     "output_type": "execute_result"
    }
   ],
   "source": [
    "df_sub"
   ]
  },
  {
   "cell_type": "code",
   "execution_count": 35,
   "metadata": {},
   "outputs": [],
   "source": [
    "df_big = pd.DataFrame(data=big_categories)"
   ]
  },
  {
   "cell_type": "code",
   "execution_count": 37,
   "metadata": {},
   "outputs": [],
   "source": [
    "df_big[\"parent\"] = df_big[\"names\"]"
   ]
  },
  {
   "cell_type": "code",
   "execution_count": 46,
   "metadata": {},
   "outputs": [
    {
     "data": {
      "text/html": [
       "<div>\n",
       "<style scoped>\n",
       "    .dataframe tbody tr th:only-of-type {\n",
       "        vertical-align: middle;\n",
       "    }\n",
       "\n",
       "    .dataframe tbody tr th {\n",
       "        vertical-align: top;\n",
       "    }\n",
       "\n",
       "    .dataframe thead th {\n",
       "        text-align: right;\n",
       "    }\n",
       "</style>\n",
       "<table border=\"1\" class=\"dataframe\">\n",
       "  <thead>\n",
       "    <tr style=\"text-align: right;\">\n",
       "      <th></th>\n",
       "      <th>names</th>\n",
       "      <th>links</th>\n",
       "      <th>parent</th>\n",
       "    </tr>\n",
       "  </thead>\n",
       "  <tbody>\n",
       "    <tr>\n",
       "      <th>0</th>\n",
       "      <td>Aliments, boissons &amp; tabac</td>\n",
       "      <td>/categories/food_beverages_tobacco</td>\n",
       "      <td>Aliments, boissons &amp; tabac</td>\n",
       "    </tr>\n",
       "    <tr>\n",
       "      <th>1</th>\n",
       "      <td>Animaux</td>\n",
       "      <td>/categories/animals_pets</td>\n",
       "      <td>Animaux</td>\n",
       "    </tr>\n",
       "    <tr>\n",
       "      <th>2</th>\n",
       "      <td>Argent &amp; assurance</td>\n",
       "      <td>/categories/money_insurance</td>\n",
       "      <td>Argent &amp; assurance</td>\n",
       "    </tr>\n",
       "    <tr>\n",
       "      <th>3</th>\n",
       "      <td>Beauté &amp; bien-être</td>\n",
       "      <td>/categories/beauty_wellbeing</td>\n",
       "      <td>Beauté &amp; bien-être</td>\n",
       "    </tr>\n",
       "    <tr>\n",
       "      <th>4</th>\n",
       "      <td>Construction &amp; fabrication</td>\n",
       "      <td>/categories/construction_manufactoring</td>\n",
       "      <td>Construction &amp; fabrication</td>\n",
       "    </tr>\n",
       "    <tr>\n",
       "      <th>5</th>\n",
       "      <td>Éducation &amp; formation</td>\n",
       "      <td>/categories/education_training</td>\n",
       "      <td>Éducation &amp; formation</td>\n",
       "    </tr>\n",
       "    <tr>\n",
       "      <th>6</th>\n",
       "      <td>Électronique &amp; technologie</td>\n",
       "      <td>/categories/electronics_technology</td>\n",
       "      <td>Électronique &amp; technologie</td>\n",
       "    </tr>\n",
       "    <tr>\n",
       "      <th>7</th>\n",
       "      <td>Événements &amp; divertissement</td>\n",
       "      <td>/categories/events_entertainment</td>\n",
       "      <td>Événements &amp; divertissement</td>\n",
       "    </tr>\n",
       "    <tr>\n",
       "      <th>8</th>\n",
       "      <td>Loisirs &amp; artisanat</td>\n",
       "      <td>/categories/hobbies_crafts</td>\n",
       "      <td>Loisirs &amp; artisanat</td>\n",
       "    </tr>\n",
       "    <tr>\n",
       "      <th>9</th>\n",
       "      <td>Maison &amp; jardin</td>\n",
       "      <td>/categories/home_garden</td>\n",
       "      <td>Maison &amp; jardin</td>\n",
       "    </tr>\n",
       "    <tr>\n",
       "      <th>10</th>\n",
       "      <td>Médias &amp; édition</td>\n",
       "      <td>/categories/media_publishing</td>\n",
       "      <td>Médias &amp; édition</td>\n",
       "    </tr>\n",
       "    <tr>\n",
       "      <th>11</th>\n",
       "      <td>Restaurants &amp; bars</td>\n",
       "      <td>/categories/restaurants_bars</td>\n",
       "      <td>Restaurants &amp; bars</td>\n",
       "    </tr>\n",
       "    <tr>\n",
       "      <th>12</th>\n",
       "      <td>Santé &amp; médecine</td>\n",
       "      <td>/categories/health_medical</td>\n",
       "      <td>Santé &amp; médecine</td>\n",
       "    </tr>\n",
       "    <tr>\n",
       "      <th>13</th>\n",
       "      <td>Services</td>\n",
       "      <td>/categories/utilities</td>\n",
       "      <td>Services</td>\n",
       "    </tr>\n",
       "    <tr>\n",
       "      <th>14</th>\n",
       "      <td>Services à domicile</td>\n",
       "      <td>/categories/home_services</td>\n",
       "      <td>Services à domicile</td>\n",
       "    </tr>\n",
       "    <tr>\n",
       "      <th>15</th>\n",
       "      <td>Services aux entreprises</td>\n",
       "      <td>/categories/business_services</td>\n",
       "      <td>Services aux entreprises</td>\n",
       "    </tr>\n",
       "    <tr>\n",
       "      <th>16</th>\n",
       "      <td>Services juridiques &amp; administration</td>\n",
       "      <td>/categories/legal_services_government</td>\n",
       "      <td>Services juridiques &amp; administration</td>\n",
       "    </tr>\n",
       "    <tr>\n",
       "      <th>17</th>\n",
       "      <td>Services publics &amp; locaux</td>\n",
       "      <td>/categories/public_local_services</td>\n",
       "      <td>Services publics &amp; locaux</td>\n",
       "    </tr>\n",
       "    <tr>\n",
       "      <th>18</th>\n",
       "      <td>Shopping &amp; mode</td>\n",
       "      <td>/categories/shopping_fashion</td>\n",
       "      <td>Shopping &amp; mode</td>\n",
       "    </tr>\n",
       "    <tr>\n",
       "      <th>19</th>\n",
       "      <td>Sport</td>\n",
       "      <td>/categories/sports</td>\n",
       "      <td>Sport</td>\n",
       "    </tr>\n",
       "    <tr>\n",
       "      <th>20</th>\n",
       "      <td>Vacances &amp; voyages</td>\n",
       "      <td>/categories/travel_vacation</td>\n",
       "      <td>Vacances &amp; voyages</td>\n",
       "    </tr>\n",
       "    <tr>\n",
       "      <th>21</th>\n",
       "      <td>Véhicules &amp; transport</td>\n",
       "      <td>/categories/vehicles_transportation</td>\n",
       "      <td>Véhicules &amp; transport</td>\n",
       "    </tr>\n",
       "  </tbody>\n",
       "</table>\n",
       "</div>"
      ],
      "text/plain": [
       "                                   names  \\\n",
       "0             Aliments, boissons & tabac   \n",
       "1                                Animaux   \n",
       "2                     Argent & assurance   \n",
       "3                     Beauté & bien-être   \n",
       "4             Construction & fabrication   \n",
       "5                  Éducation & formation   \n",
       "6             Électronique & technologie   \n",
       "7            Événements & divertissement   \n",
       "8                    Loisirs & artisanat   \n",
       "9                        Maison & jardin   \n",
       "10                      Médias & édition   \n",
       "11                    Restaurants & bars   \n",
       "12                      Santé & médecine   \n",
       "13                              Services   \n",
       "14                   Services à domicile   \n",
       "15              Services aux entreprises   \n",
       "16  Services juridiques & administration   \n",
       "17             Services publics & locaux   \n",
       "18                       Shopping & mode   \n",
       "19                                 Sport   \n",
       "20                    Vacances & voyages   \n",
       "21                 Véhicules & transport   \n",
       "\n",
       "                                     links  \\\n",
       "0       /categories/food_beverages_tobacco   \n",
       "1                 /categories/animals_pets   \n",
       "2              /categories/money_insurance   \n",
       "3             /categories/beauty_wellbeing   \n",
       "4   /categories/construction_manufactoring   \n",
       "5           /categories/education_training   \n",
       "6       /categories/electronics_technology   \n",
       "7         /categories/events_entertainment   \n",
       "8               /categories/hobbies_crafts   \n",
       "9                  /categories/home_garden   \n",
       "10            /categories/media_publishing   \n",
       "11            /categories/restaurants_bars   \n",
       "12              /categories/health_medical   \n",
       "13                   /categories/utilities   \n",
       "14               /categories/home_services   \n",
       "15           /categories/business_services   \n",
       "16   /categories/legal_services_government   \n",
       "17       /categories/public_local_services   \n",
       "18            /categories/shopping_fashion   \n",
       "19                      /categories/sports   \n",
       "20             /categories/travel_vacation   \n",
       "21     /categories/vehicles_transportation   \n",
       "\n",
       "                                  parent  \n",
       "0             Aliments, boissons & tabac  \n",
       "1                                Animaux  \n",
       "2                     Argent & assurance  \n",
       "3                     Beauté & bien-être  \n",
       "4             Construction & fabrication  \n",
       "5                  Éducation & formation  \n",
       "6             Électronique & technologie  \n",
       "7            Événements & divertissement  \n",
       "8                    Loisirs & artisanat  \n",
       "9                        Maison & jardin  \n",
       "10                      Médias & édition  \n",
       "11                    Restaurants & bars  \n",
       "12                      Santé & médecine  \n",
       "13                              Services  \n",
       "14                   Services à domicile  \n",
       "15              Services aux entreprises  \n",
       "16  Services juridiques & administration  \n",
       "17             Services publics & locaux  \n",
       "18                       Shopping & mode  \n",
       "19                                 Sport  \n",
       "20                    Vacances & voyages  \n",
       "21                 Véhicules & transport  "
      ]
     },
     "execution_count": 46,
     "metadata": {},
     "output_type": "execute_result"
    }
   ],
   "source": [
    "df_big"
   ]
  },
  {
   "cell_type": "code",
   "execution_count": 39,
   "metadata": {},
   "outputs": [],
   "source": [
    "df = pd.concat([df_big, df_sub])"
   ]
  },
  {
   "cell_type": "code",
   "execution_count": 42,
   "metadata": {},
   "outputs": [],
   "source": [
    "df = df.reset_index()"
   ]
  },
  {
   "cell_type": "code",
   "execution_count": 44,
   "metadata": {},
   "outputs": [
    {
     "name": "stdout",
     "output_type": "stream",
     "text": [
      "<class 'pandas.core.frame.DataFrame'>\n",
      "RangeIndex: 204 entries, 0 to 203\n",
      "Data columns (total 4 columns):\n",
      " #   Column  Non-Null Count  Dtype \n",
      "---  ------  --------------  ----- \n",
      " 0   index   204 non-null    int64 \n",
      " 1   names   204 non-null    object\n",
      " 2   links   204 non-null    object\n",
      " 3   parent  204 non-null    object\n",
      "dtypes: int64(1), object(3)\n",
      "memory usage: 6.5+ KB\n"
     ]
    }
   ],
   "source": [
    "df.info()"
   ]
  },
  {
   "cell_type": "code",
   "execution_count": 45,
   "metadata": {},
   "outputs": [],
   "source": [
    "df.to_csv(\"categories.csv\")"
   ]
  },
  {
   "cell_type": "code",
   "execution_count": null,
   "metadata": {},
   "outputs": [],
   "source": []
  }
 ],
 "metadata": {
  "kernelspec": {
   "display_name": "Python 3",
   "language": "python",
   "name": "python3"
  },
  "language_info": {
   "codemirror_mode": {
    "name": "ipython",
    "version": 3
   },
   "file_extension": ".py",
   "mimetype": "text/x-python",
   "name": "python",
   "nbconvert_exporter": "python",
   "pygments_lexer": "ipython3",
   "version": "3.8.5"
  }
 },
 "nbformat": 4,
 "nbformat_minor": 4
}
