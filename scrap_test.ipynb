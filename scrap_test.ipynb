{
 "cells": [
  {
   "cell_type": "code",
   "execution_count": 1,
   "metadata": {},
   "outputs": [],
   "source": [
    "from bs4 import BeautifulSoup\n",
    "import requests\n",
    "import numpy as np\n",
    "import pandas as pd\n",
    "import random\n",
    "import time"
   ]
  },
  {
   "cell_type": "code",
   "execution_count": 2,
   "metadata": {},
   "outputs": [],
   "source": [
    "from scrap_compagnies_and_reviews_from_category import *\n",
    "from scrap_companies_from_category import *\n",
    "from scrap_companies_from_query import *\n",
    "from scrap_reviews_from_company import *"
   ]
  },
  {
   "cell_type": "code",
   "execution_count": 3,
   "metadata": {},
   "outputs": [
    {
     "data": {
      "text/html": [
       "<div>\n",
       "<style scoped>\n",
       "    .dataframe tbody tr th:only-of-type {\n",
       "        vertical-align: middle;\n",
       "    }\n",
       "\n",
       "    .dataframe tbody tr th {\n",
       "        vertical-align: top;\n",
       "    }\n",
       "\n",
       "    .dataframe thead th {\n",
       "        text-align: right;\n",
       "    }\n",
       "</style>\n",
       "<table border=\"1\" class=\"dataframe\">\n",
       "  <thead>\n",
       "    <tr style=\"text-align: right;\">\n",
       "      <th></th>\n",
       "      <th>fr_name</th>\n",
       "      <th>link</th>\n",
       "      <th>category</th>\n",
       "    </tr>\n",
       "  </thead>\n",
       "  <tbody>\n",
       "    <tr>\n",
       "      <th>0</th>\n",
       "      <td>Aliments, boissons &amp; tabac</td>\n",
       "      <td>food_beverages_tobacco</td>\n",
       "      <td>0</td>\n",
       "    </tr>\n",
       "    <tr>\n",
       "      <th>1</th>\n",
       "      <td>Animaux</td>\n",
       "      <td>animals_pets</td>\n",
       "      <td>0</td>\n",
       "    </tr>\n",
       "    <tr>\n",
       "      <th>2</th>\n",
       "      <td>Argent &amp; assurance</td>\n",
       "      <td>money_insurance</td>\n",
       "      <td>0</td>\n",
       "    </tr>\n",
       "    <tr>\n",
       "      <th>3</th>\n",
       "      <td>Beauté &amp; bien-être</td>\n",
       "      <td>beauty_wellbeing</td>\n",
       "      <td>0</td>\n",
       "    </tr>\n",
       "    <tr>\n",
       "      <th>4</th>\n",
       "      <td>Construction &amp; fabrication</td>\n",
       "      <td>construction_manufactoring</td>\n",
       "      <td>0</td>\n",
       "    </tr>\n",
       "  </tbody>\n",
       "</table>\n",
       "</div>"
      ],
      "text/plain": [
       "                      fr_name                        link  category\n",
       "0  Aliments, boissons & tabac      food_beverages_tobacco         0\n",
       "1                     Animaux                animals_pets         0\n",
       "2          Argent & assurance             money_insurance         0\n",
       "3          Beauté & bien-être            beauty_wellbeing         0\n",
       "4  Construction & fabrication  construction_manufactoring         0"
      ]
     },
     "execution_count": 3,
     "metadata": {},
     "output_type": "execute_result"
    }
   ],
   "source": [
    "df_categories = pd.read_csv(\"csv/categories.csv\")\n",
    "df_categories.head()"
   ]
  },
  {
   "cell_type": "code",
   "execution_count": 12,
   "metadata": {},
   "outputs": [
    {
     "data": {
      "text/html": [
       "<div>\n",
       "<style scoped>\n",
       "    .dataframe tbody tr th:only-of-type {\n",
       "        vertical-align: middle;\n",
       "    }\n",
       "\n",
       "    .dataframe tbody tr th {\n",
       "        vertical-align: top;\n",
       "    }\n",
       "\n",
       "    .dataframe thead th {\n",
       "        text-align: right;\n",
       "    }\n",
       "</style>\n",
       "<table border=\"1\" class=\"dataframe\">\n",
       "  <thead>\n",
       "    <tr style=\"text-align: right;\">\n",
       "      <th></th>\n",
       "      <th>name</th>\n",
       "      <th>link</th>\n",
       "      <th>stars</th>\n",
       "      <th>review_count</th>\n",
       "      <th>location</th>\n",
       "      <th>category</th>\n",
       "    </tr>\n",
       "  </thead>\n",
       "  <tbody>\n",
       "    <tr>\n",
       "      <th>34</th>\n",
       "      <td>My Pepper Factory</td>\n",
       "      <td>mypepperfactory.com</td>\n",
       "      <td>3.7</td>\n",
       "      <td>1.0</td>\n",
       "      <td>10 Rue Ernest Psichari . 75007Paris</td>\n",
       "      <td>food_beverages_tobacco</td>\n",
       "    </tr>\n",
       "    <tr>\n",
       "      <th>35</th>\n",
       "      <td>Vins et Champagne</td>\n",
       "      <td>vinsetchampagne.fr</td>\n",
       "      <td>3.6</td>\n",
       "      <td>18.0</td>\n",
       "      <td>56 rue de la fédération . 75015Paris</td>\n",
       "      <td>food_beverages_tobacco</td>\n",
       "    </tr>\n",
       "    <tr>\n",
       "      <th>36</th>\n",
       "      <td>www.blm-whisky.com</td>\n",
       "      <td>blm-whisky.com</td>\n",
       "      <td>NaN</td>\n",
       "      <td>NaN</td>\n",
       "      <td>4 avenue ingres . 75016paris</td>\n",
       "      <td>food_beverages_tobacco</td>\n",
       "    </tr>\n",
       "    <tr>\n",
       "      <th>37</th>\n",
       "      <td>Whisky Prestige</td>\n",
       "      <td>whisky-prestige.com</td>\n",
       "      <td>NaN</td>\n",
       "      <td>NaN</td>\n",
       "      <td>26 RUE GEORGE SAND 75016 PARIS – FRANCE . 7501...</td>\n",
       "      <td>food_beverages_tobacco</td>\n",
       "    </tr>\n",
       "    <tr>\n",
       "      <th>38</th>\n",
       "      <td>biscuitsclaireetjulie.com</td>\n",
       "      <td>biscuitsclaireetjulie.com</td>\n",
       "      <td>NaN</td>\n",
       "      <td>NaN</td>\n",
       "      <td>88 rue Didot . 75014Paris</td>\n",
       "      <td>food_beverages_tobacco</td>\n",
       "    </tr>\n",
       "  </tbody>\n",
       "</table>\n",
       "</div>"
      ],
      "text/plain": [
       "                         name                       link  stars  review_count  \\\n",
       "34         My Pepper Factory         mypepperfactory.com    3.7           1.0   \n",
       "35          Vins et Champagne         vinsetchampagne.fr    3.6          18.0   \n",
       "36         www.blm-whisky.com             blm-whisky.com    NaN           NaN   \n",
       "37            Whisky Prestige        whisky-prestige.com    NaN           NaN   \n",
       "38  biscuitsclaireetjulie.com  biscuitsclaireetjulie.com    NaN           NaN   \n",
       "\n",
       "                                             location                category  \n",
       "34               10 Rue Ernest Psichari . 75007Paris   food_beverages_tobacco  \n",
       "35               56 rue de la fédération . 75015Paris  food_beverages_tobacco  \n",
       "36                       4 avenue ingres . 75016paris  food_beverages_tobacco  \n",
       "37  26 RUE GEORGE SAND 75016 PARIS – FRANCE . 7501...  food_beverages_tobacco  \n",
       "38                          88 rue Didot . 75014Paris  food_beverages_tobacco  "
      ]
     },
     "execution_count": 12,
     "metadata": {},
     "output_type": "execute_result"
    }
   ],
   "source": [
    "companies = scrap_companies_from_category(\"food_beverages_tobacco\", location=\"paris\",\n",
    "                                          scrap_best_score=False, max_companies=39)\n",
    "df_companies = pd.DataFrame(data=companies)\n",
    "df_companies.tail()"
   ]
  },
  {
   "cell_type": "code",
   "execution_count": null,
   "metadata": {},
   "outputs": [],
   "source": []
  },
  {
   "cell_type": "code",
   "execution_count": null,
   "metadata": {},
   "outputs": [],
   "source": []
  }
 ],
 "metadata": {
  "kernelspec": {
   "display_name": "Python 3",
   "language": "python",
   "name": "python3"
  },
  "language_info": {
   "codemirror_mode": {
    "name": "ipython",
    "version": 3
   },
   "file_extension": ".py",
   "mimetype": "text/x-python",
   "name": "python",
   "nbconvert_exporter": "python",
   "pygments_lexer": "ipython3",
   "version": "3.8.5"
  }
 },
 "nbformat": 4,
 "nbformat_minor": 5
}
