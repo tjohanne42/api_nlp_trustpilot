{
 "cells": [
  {
   "cell_type": "code",
   "execution_count": 65,
   "metadata": {},
   "outputs": [],
   "source": [
    "from bs4 import BeautifulSoup\n",
    "import requests\n",
    "import numpy as np"
   ]
  },
  {
   "cell_type": "code",
   "execution_count": 87,
   "metadata": {},
   "outputs": [],
   "source": [
    "def scrap_entreprises_from_search(url, verbose=False):\n",
    "    \n",
    "    # todo:\n",
    "    #      check if \"?page=\" is already in the url\n",
    "    #      add argument nb_entreprise_max\n",
    "    #      add argument scrap_webpage_of_entreprise\n",
    "    \n",
    "    entreprises = {\"links\": [], \"titles\": [], \"stars\": [], \"review_counts\": [], \"locations\": []}\n",
    "    \n",
    "    page = 1\n",
    "    url += \"?page=\"\n",
    "    done = False\n",
    "    while not done:\n",
    "        \n",
    "        req = requests.get(url + str(page))\n",
    "        if verbose:\n",
    "            print(url + str(page))\n",
    "        soup = BeautifulSoup(req.text, \"lxml\")\n",
    "        \n",
    "        entreprise_count = 0\n",
    "        \n",
    "        # possibly 2 blocks of entreprises (most rated and all)\n",
    "        div_containers = soup.find_all(\"div\", class_=\"styles_businessUnitCardsContainer__1ggaO\")\n",
    "\n",
    "        for div_container in div_containers:\n",
    "            # for each block\n",
    "            div = div_container.find(\"div\", class_=\"styles_categoryBusinessListWrapper__2H2X5\")\n",
    "            \n",
    "            if div == None:\n",
    "                # if we find div with 2H2X5 class it's most rated so we need to enter in this div\n",
    "                # else it's all we don't have to enter anywhere\n",
    "                div = div_container\n",
    "                \n",
    "            a_balises = div.find_all(\"a\")\n",
    "            for a_balise in a_balises:\n",
    "                # for each entreprise, find link, title, stars\n",
    "                link = a_balise[\"href\"]\n",
    "                title = a_balise.find(\"div\", class_=\"styles_businessTitle__1IANo\").text\n",
    "                \n",
    "                # try to get more info if they have\n",
    "                try:\n",
    "                    infos_div = a_balise.find(\"div\", class_=\"styles_textRating__19_fv\").text\n",
    "                    infos = infos_div.split(\"\\xa0·\\xa0\")\n",
    "                    infos[0] = int(infos[0].split()[0])\n",
    "                    infos[1] = float(infos[1].split()[-1])\n",
    "                except:\n",
    "                    if verbose:\n",
    "                        print(\"No stars and nb_reviews for\", title, link)\n",
    "                    infos = [np.nan, np.nan]\n",
    "                \n",
    "                try:\n",
    "                    div_locations = a_balise.find(\"div\", class_=\"styles_location__3JATO\")\n",
    "                    spans_locations = div_locations.find_all(\"span\")\n",
    "                    location = \"\"\n",
    "                    for span_location in spans_locations:\n",
    "                        location += span_location.text\n",
    "                except:\n",
    "                    if verbose:\n",
    "                        print(\"No location for\", title, link)\n",
    "                    location = np.nan\n",
    "\n",
    "                entreprises[\"links\"].append(link)\n",
    "                entreprises[\"titles\"].append(title)\n",
    "                entreprises[\"stars\"].append(infos[1])\n",
    "                entreprises[\"review_counts\"].append(infos[0])\n",
    "                entreprises[\"locations\"].append(location)\n",
    "\n",
    "                entreprise_count += 1\n",
    "\n",
    "        if verbose:   \n",
    "            print(\"nb entreprise on this page :\", entreprise_count)\n",
    "        if entreprise_count >= 20:\n",
    "            page += 1\n",
    "        else:\n",
    "            done = True\n",
    "    return entreprises"
   ]
  },
  {
   "cell_type": "code",
   "execution_count": 91,
   "metadata": {},
   "outputs": [],
   "source": [
    "entreprises = scrap_entreprises_from_search(\"https://fr.trustpilot.com/categories/food_beverages_tobacco\")\n",
    "#entreprises = scrap_entreprises_from_search(\"https://fr.trustpilot.com/categories/agriculture_produce\")\n",
    "#entreprises = scrap_entreprises_from_search(\"https://fr.trustpilot.com/categories/animals_pets\", verbose=False)\n",
    "    \n",
    "# 18 + 9 * 20 pour animals_pets"
   ]
  },
  {
   "cell_type": "code",
   "execution_count": 92,
   "metadata": {},
   "outputs": [
    {
     "data": {
      "text/plain": [
       "594"
      ]
     },
     "execution_count": 92,
     "metadata": {},
     "output_type": "execute_result"
    }
   ],
   "source": [
    "len(entreprises[\"titles\"])"
   ]
  },
  {
   "cell_type": "code",
   "execution_count": 93,
   "metadata": {},
   "outputs": [
    {
     "ename": "NameError",
     "evalue": "name 'pd' is not defined",
     "output_type": "error",
     "traceback": [
      "\u001b[0;31m---------------------------------------------------------------------------\u001b[0m",
      "\u001b[0;31mNameError\u001b[0m                                 Traceback (most recent call last)",
      "\u001b[0;32m<ipython-input-93-db34a1d2f942>\u001b[0m in \u001b[0;36m<module>\u001b[0;34m\u001b[0m\n\u001b[0;32m----> 1\u001b[0;31m \u001b[0mdf\u001b[0m \u001b[0;34m=\u001b[0m \u001b[0mpd\u001b[0m\u001b[0;34m.\u001b[0m\u001b[0mDataFrame\u001b[0m\u001b[0;34m(\u001b[0m\u001b[0mdata\u001b[0m\u001b[0;34m=\u001b[0m\u001b[0mentreprises\u001b[0m\u001b[0;34m)\u001b[0m\u001b[0;34m\u001b[0m\u001b[0;34m\u001b[0m\u001b[0m\n\u001b[0m",
      "\u001b[0;31mNameError\u001b[0m: name 'pd' is not defined"
     ]
    }
   ],
   "source": [
    "df = pd.DataFrame(data=entreprises)"
   ]
  },
  {
   "cell_type": "code",
   "execution_count": null,
   "metadata": {},
   "outputs": [],
   "source": [
    "df"
   ]
  },
  {
   "cell_type": "code",
   "execution_count": null,
   "metadata": {},
   "outputs": [],
   "source": []
  }
 ],
 "metadata": {
  "kernelspec": {
   "display_name": "Python 3",
   "language": "python",
   "name": "python3"
  },
  "language_info": {
   "codemirror_mode": {
    "name": "ipython",
    "version": 3
   },
   "file_extension": ".py",
   "mimetype": "text/x-python",
   "name": "python",
   "nbconvert_exporter": "python",
   "pygments_lexer": "ipython3",
   "version": "3.8.5"
  }
 },
 "nbformat": 4,
 "nbformat_minor": 4
}
